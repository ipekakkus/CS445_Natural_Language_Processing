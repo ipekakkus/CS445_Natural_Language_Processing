{
  "cells": [
    {
      "cell_type": "markdown",
      "metadata": {
        "id": "rfFUVv1w1SLX"
      },
      "source": [
        "Ipek Akkus - 30800\n",
        "\n",
        "26th December, 2024"
      ]
    },
    {
      "cell_type": "markdown",
      "metadata": {
        "id": "GON_gOpjqL6G"
      },
      "source": [
        "# **Part of Speech Tagging using Hidden Markov Models**\n",
        "\n",
        "\n",
        "\n",
        "In this assignment, you are asked to train your **OWN** Hidden Markov Model to predict part of speech tags of words. Steps to the assignment:\n",
        "1. Download the data from this link - both the web.conllu and wiki.conllu: https://github.com/google-research-datasets/turkish-treebanks/tree/master/data\n",
        "1. We combined the web and the wiki to have a bigger dataset. Split this dataset (*sentences*) into train/test sets with 0.8/0.2 proportions. Select a random state number and use it consistently to get the same sets while iterating. **This is very important!**\n",
        "1. Calculate the transition and emission probabilities using the Maximum Likelihood Estimation (MLE). You can use smoothing for transition and emission probabilities.\n",
        "1. Train two HMMs with two sets of Part-of-Speech tags.\n",
        "\n",
        "  a. All of the POS tags in the dataset. There are 14 POS tags in the dataset.\n",
        "\n",
        "  b. Only the tags \"ADJ, ADV, NOUN, VERB, PUNC\"\n",
        "1. Add the \"\\<START>\" and \"\\<END>\" tags for calculating the induction and ending probabilities.\n",
        "1. Predict the tags for the test set using Viterbi algorithm with the trained HMM.\n",
        "1. Evaluate the prediction with the gold labels. Show confusion matrix for the tags.\n",
        "1. Compare the two versions of the HMMs in terms of accuracy and F1 score - all tags version, only \"ADJ, ADV, NOUN, VERB, PUNC\" version.\n",
        "1. Write a small report on your approaches and results.\n",
        "\n",
        "\n",
        "## Rules\n",
        "### Allowed:\n",
        " - Use any libraries for anything **other than the HMM training and prediction**.\n",
        " - Use strategies to increase the performance like handling unknown or rare words, using a dictionary of open/closed words for prediction, changing smoothing functions, and others.\n",
        " - Adding additional coding blocks\n",
        "\n",
        "### Not allowed:\n",
        " - **You need to write your own HMM.** Using the HMM model from an external library is not allowed.\n",
        "\n",
        "## Assignment Report\n",
        "Please write a short assignment report at the end of the notebook (max 500 words). Please include all of the following points in the report:\n",
        " - Data preparation method\n",
        " - How did you calculate of MLE probabilities for transition and emission matrices?\n",
        " - Challenges you have faced while writing the HMM model and challenges with the specific dataset\n",
        " - Comments about the performance of your HMM tagger\n",
        " - Limitations of your approach\n",
        " - Possible improvements to the system\n",
        "\n",
        "## Grading\n",
        "You will be graded with the following criteria:\n",
        " - running complete code (0.5),\n",
        " - clear commenting (0.5),\n",
        " - data preparation (0.5),\n",
        " - HMM transition and emission probability calculation (2)\n",
        " - POS tagging the test data with trained HMM using Viterbi algorithm (2)\n",
        " - Evaluation of the performance of HMM POS tagger (1)\n",
        " - assignment report (1).\n",
        "\n",
        "Total points for this assignment = 7.5\n",
        "\n",
        "You can get bonus points (maximum 0.5) by trying extra methods to improve the performance of the HMM model.\n",
        "\n",
        "## Submission\n",
        "\n",
        "Submission will be made to SUCourse. Please submit your file using the following naming convention.\n",
        "\n",
        "\n",
        "`studentid_studentname_hmm_tagger.ipynb  - ex. 26744_aysegulrana_hmm_tagger.ipynb`\n",
        "\n",
        "\n",
        "**Deadline is December 26th, 23.55pm.**\n"
      ]
    },
    {
      "cell_type": "code",
      "execution_count": 1,
      "metadata": {
        "id": "9bOEe3N9mtci"
      },
      "outputs": [],
      "source": [
        "def read_conll(file_path):\n",
        "    sentences = []\n",
        "    sentence = []\n",
        "\n",
        "    with open(file_path, 'r', encoding='utf-8') as f:\n",
        "        for line in f:\n",
        "            line = line.strip()\n",
        "\n",
        "            # Skip metadata lines starting with \"#\"\n",
        "            if line.startswith(\"#\"):\n",
        "                continue\n",
        "\n",
        "            # Sentence boundary (blank line)\n",
        "            if not line:\n",
        "                if sentence:\n",
        "                    sentences.append(sentence)\n",
        "                    sentence = []\n",
        "            else:\n",
        "                # Split the line into columns and extract word and POS tag\n",
        "                columns = line.split('\\t')\n",
        "                if len(columns) > 3:  # Check to ensure the line has expected columns\n",
        "                    word = columns[2]\n",
        "                    if word == '_':\n",
        "                      continue\n",
        "\n",
        "                    pos_tag = columns[3]\n",
        "                    sentence.append((word, pos_tag))\n",
        "\n",
        "        # Add the last sentence if the file doesn't end with a blank line\n",
        "        if sentence:\n",
        "            sentences.append(sentence)\n",
        "\n",
        "    return sentences\n",
        "\n",
        "# Usage\n",
        "web_file_path = \"/content/web.conllu\"\n",
        "wiki_file_path = \"/content/wiki.conllu\"\n",
        "\n",
        "web_sentences = read_conll(web_file_path)\n",
        "wiki_sentences = read_conll(wiki_file_path)\n",
        "\n",
        "sentences = web_sentences + wiki_sentences"
      ]
    },
    {
      "cell_type": "code",
      "execution_count": 2,
      "metadata": {
        "colab": {
          "base_uri": "https://localhost:8080/"
        },
        "id": "4lma0qsepacW",
        "outputId": "29fcae91-308f-4c4f-bcf2-8b5b19b17645"
      },
      "outputs": [
        {
          "name": "stdout",
          "output_type": "stream",
          "text": [
            "2541\n",
            "2310\n",
            "4851\n"
          ]
        }
      ],
      "source": [
        "print(len(web_sentences))\n",
        "print(len(wiki_sentences))\n",
        "print(len(sentences))"
      ]
    },
    {
      "cell_type": "code",
      "execution_count": 3,
      "metadata": {
        "colab": {
          "base_uri": "https://localhost:8080/"
        },
        "id": "HhwKYcmfCUwY",
        "outputId": "95efd5d3-c7c1-4103-d461-97e02b72b0cf"
      },
      "outputs": [
        {
          "name": "stdout",
          "output_type": "stream",
          "text": [
            "Sentence 1: [('bur', 'PRON'), ('da', 'PRT'), ('öyle', 'VERB'), ('yoksa', 'CONJ'), ('kilo', 'VERB'), ('mı', 'PRT'), ('?', 'PUNCT')]\n",
            "Sentence 2: [('açık', 'NOUN'), ('soru', 'NOUN'), ('müfredat', 'NOUN'), ('uygun', 'ADJ'), ('ol', 'VERB'), ('ol', 'VERB'), ('bil', 'VERB'), ('imkan', 'NOUN'), ('.', 'PUNCT')]\n",
            "Sentence 3: [('bakara', 'NOUN'), ('sure', 'NOUN'), ('248', 'NUM'), ('ayet', 'NOUN'), ('açık', 'NOUN'), ('mı', 'VERB'), ('?', 'PUNCT')]\n",
            "Sentence 4: [('internet', 'NOUN'), ('araştır', 'VERB'), ('açık', 'NOUN'), ('cevap', 'NOUN'), ('bul', 'VERB'), ('.', 'PUNCT')]\n",
            "Sentence 5: [('burun', 'NOUN'), ('kemik', 'NOUN'), ('herhangi', 'DET'), ('bir', 'DET'), ('eğri', 'NOUN'), ('ol', 'VERB'), ('için', 'ADP'), ('kemik', 'NOUN'), ('hiç', 'ADV'), ('dokun', 'VERB'), ('.', 'PUNCT')]\n",
            "Sentence 6: [('(', 'PUNCT'), ('kod', 'NOUN'), ('19', 'NUM'), (')', 'PUNCT'), (\"''\", 'PUNCT'), ('şekil', 'NOUN'), ('bir', 'DET'), ('mesaj', 'NOUN'), ('al', 'VERB'), ('.', 'PUNCT')]\n",
            "Sentence 7: [('kürtaj', 'NOUN'), ('ve', 'CONJ'), ('komplikasyon', 'NOUN')]\n",
            "Sentence 8: [('önce', 'NOUN'), ('derece', 'NOUN'), ('silindir', 'NOUN'), ('belli', 'ADJ'), ('bir', 'DET'), ('miktar', 'NOUN'), ('su', 'NOUN'), ('koy', 'VERB'), ('.', 'PUNCT')]\n",
            "Sentence 9: [('gün', 'NOUN'), ('1', 'NUM'), ('-', 'PUNCT'), ('2', 'NUM'), ('öğün', 'NOUN'), (',', 'PUNCT'), ('protein', 'NOUN'), ('bakım', 'ADP'), ('zengin', 'ADJ'), ('yiyecek', 'NOUN'), ('ye', 'VERB'), ('bu', 'DET'), ('miktar', 'NOUN'), ('protein', 'NOUN'), ('al', 'VERB'), ('sağla', 'VERB'), ('.', 'PUNCT')]\n",
            "Sentence 10: [('bu', 'DET'), ('konu', 'NOUN'), ('sizler', 'PRON'), ('genel', 'ADJ'), ('işletim', 'NOUN'), ('sistem', 'NOUN'), ('yönetim', 'NOUN'), ('ve', 'CONJ'), ('iyi', 'NOUN'), ('hak', 'ADP'), ('birkaç', 'DET'), ('bilgi', 'NOUN'), ('ilet', 'VERB'), ('.', 'PUNCT')]\n"
          ]
        }
      ],
      "source": [
        "for i, sentence in enumerate(sentences[:10]):\n",
        "    print(f\"Sentence {i+1}: {sentence}\")"
      ]
    },
    {
      "cell_type": "code",
      "execution_count": 4,
      "metadata": {
        "colab": {
          "base_uri": "https://localhost:8080/"
        },
        "id": "4Emdf6SDCia6",
        "outputId": "abf8eab3-cf34-4349-d40c-7b70db28875b"
      },
      "outputs": [
        {
          "name": "stdout",
          "output_type": "stream",
          "text": [
            "POS Tags 1: PRON PRT VERB CONJ VERB PRT PUNCT\n",
            "POS Tags 2: NOUN NOUN NOUN ADJ VERB VERB VERB NOUN PUNCT\n",
            "POS Tags 3: NOUN NOUN NUM NOUN NOUN VERB PUNCT\n",
            "POS Tags 4: NOUN VERB NOUN NOUN VERB PUNCT\n",
            "POS Tags 5: NOUN NOUN DET DET NOUN VERB ADP NOUN ADV VERB PUNCT\n"
          ]
        }
      ],
      "source": [
        "for i, sentence in enumerate(sentences[:5]):\n",
        "    print(f\"POS Tags {i+1}: {' '.join([pos for word, pos in sentence])}\")"
      ]
    },
    {
      "cell_type": "code",
      "execution_count": 5,
      "metadata": {
        "colab": {
          "base_uri": "https://localhost:8080/"
        },
        "id": "X-v183qSDAv-",
        "outputId": "40b38956-bc1b-4237-c2d7-3927e1c89cf0"
      },
      "outputs": [
        {
          "name": "stdout",
          "output_type": "stream",
          "text": [
            "Unique tags in the dataset: ['ADJ', 'ADP', 'ADV', 'AFFIX', 'CONJ', 'DET', 'NOUN', 'NUM', 'ONOM', 'PRON', 'PRT', 'PUNCT', 'VERB', 'X']\n",
            "Number of unique tags in the dataset: 14\n"
          ]
        }
      ],
      "source": [
        "tags_in_dataset = set()\n",
        "for sent in sentences:\n",
        "    for (_, tag) in sent:\n",
        "        tags_in_dataset.add(tag)\n",
        "\n",
        "sorted_tags = sorted(tags_in_dataset)\n",
        "print(\"Unique tags in the dataset:\", sorted_tags)\n",
        "print(\"Number of unique tags in the dataset:\", len(tags_in_dataset))"
      ]
    },
    {
      "cell_type": "code",
      "execution_count": 6,
      "metadata": {
        "colab": {
          "base_uri": "https://localhost:8080/"
        },
        "id": "rDg6PbCADtLY",
        "outputId": "6cd8326d-42d8-49dc-cccb-1b4b12c9f1e0"
      },
      "outputs": [
        {
          "name": "stdout",
          "output_type": "stream",
          "text": [
            "No words with missing POS tags found.\n"
          ]
        }
      ],
      "source": [
        "missing_tags = []\n",
        "\n",
        "for i, sentence in enumerate(sentences):\n",
        "    for word, pos in sentence:\n",
        "        if pos == '_' or not pos:  # Check for missing or empty POS tags\n",
        "            missing_tags.append((i, word))\n",
        "\n",
        "if missing_tags:\n",
        "    print(\"Words without POS tags found:\")\n",
        "    for sent_idx, word in missing_tags:\n",
        "        print(f\"Sentence {sent_idx + 1}: '{word}' has no POS tag.\")\n",
        "    print(f\"Total missing tags: {len(missing_tags)}\")\n",
        "else:\n",
        "    print(\"No words with missing POS tags found.\")\n"
      ]
    },
    {
      "cell_type": "markdown",
      "metadata": {
        "id": "kPP4PiyuEVWo"
      },
      "source": [
        "Everything is fine so far:\n",
        "- There are 4851 sentences in the whole dataset.\n",
        "  - 2541 from web\n",
        "  - 2310 from wiki\n",
        "- 14 unique tags are identified.\n",
        "  - 5 of them will be considered seperately.\n",
        "- No untagged word in sentences.\n"
      ]
    },
    {
      "cell_type": "markdown",
      "metadata": {
        "id": "-2Es7c7EH7wg"
      },
      "source": [
        "## 1. Preprocessing function"
      ]
    },
    {
      "cell_type": "code",
      "execution_count": 7,
      "metadata": {
        "id": "evselvW7Bwbq"
      },
      "outputs": [],
      "source": [
        "def prepare_data(sentences, tag_list):\n",
        "\n",
        "  #only consider the tags that are in the tag_list\n",
        "  prepared_sentences = []\n",
        "  for sent in sentences:\n",
        "      filtered_sent = []\n",
        "      for word, pos_tag in sent:\n",
        "          if pos_tag in tag_list:\n",
        "              filtered_sent.append((word, pos_tag))\n",
        "\n",
        "      # only add to prepared_sentences if not empty\n",
        "      if filtered_sent:\n",
        "          prepared_sentences.append(filtered_sent)\n",
        "\n",
        "  return prepared_sentences"
      ]
    },
    {
      "cell_type": "code",
      "execution_count": 37,
      "metadata": {
        "colab": {
          "base_uri": "https://localhost:8080/"
        },
        "id": "XfgrEOiGGvyq",
        "outputId": "5cfa069f-a347-4e34-af99-bec52b1aa8fc"
      },
      "outputs": [
        {
          "name": "stdout",
          "output_type": "stream",
          "text": [
            "Number of all unique tags in the dataset: 14\n",
            "Original Sentences with all tags (First 5):\n",
            "Sentence 1: [('bur', 'PRON'), ('da', 'PRT'), ('öyle', 'VERB'), ('yoksa', 'CONJ'), ('kilo', 'VERB'), ('mı', 'PRT'), ('?', 'PUNCT')]\n",
            "Sentence 2: [('açık', 'NOUN'), ('soru', 'NOUN'), ('müfredat', 'NOUN'), ('uygun', 'ADJ'), ('ol', 'VERB'), ('ol', 'VERB'), ('bil', 'VERB'), ('imkan', 'NOUN'), ('.', 'PUNCT')]\n",
            "Sentence 3: [('bakara', 'NOUN'), ('sure', 'NOUN'), ('248', 'NUM'), ('ayet', 'NOUN'), ('açık', 'NOUN'), ('mı', 'VERB'), ('?', 'PUNCT')]\n",
            "Sentence 4: [('internet', 'NOUN'), ('araştır', 'VERB'), ('açık', 'NOUN'), ('cevap', 'NOUN'), ('bul', 'VERB'), ('.', 'PUNCT')]\n",
            "Sentence 5: [('burun', 'NOUN'), ('kemik', 'NOUN'), ('herhangi', 'DET'), ('bir', 'DET'), ('eğri', 'NOUN'), ('ol', 'VERB'), ('için', 'ADP'), ('kemik', 'NOUN'), ('hiç', 'ADV'), ('dokun', 'VERB'), ('.', 'PUNCT')]\n"
          ]
        }
      ],
      "source": [
        "# Create the original dataset (all POS tags)\n",
        "all_tags = {pos for sent in sentences for _, pos in sent}  # Get all unique tags dynamically\n",
        "print(\"Number of all unique tags in the dataset:\", len(all_tags))\n",
        "original_sentences = prepare_data(sentences, all_tags)\n",
        "\n",
        "# Print results to compare\n",
        "print(\"Original Sentences with all tags (First 5):\")\n",
        "for i, sent in enumerate(original_sentences[:5]):\n",
        "  print(f\"Sentence {i+1}: {sent}\")"
      ]
    },
    {
      "cell_type": "code",
      "execution_count": 38,
      "metadata": {
        "colab": {
          "base_uri": "https://localhost:8080/"
        },
        "id": "9A17h0FHG5HD",
        "outputId": "e454c1e1-035d-4c9e-cd33-950d5b6d2a39"
      },
      "outputs": [
        {
          "name": "stdout",
          "output_type": "stream",
          "text": [
            "\n",
            "Filtered Sentences (First 5, limited to ADJ, ADV, NOUN, VERB, PUNCT):\n",
            "Sentence 1: [('öyle', 'VERB'), ('kilo', 'VERB'), ('?', 'PUNCT')]\n",
            "Sentence 2: [('açık', 'NOUN'), ('soru', 'NOUN'), ('müfredat', 'NOUN'), ('uygun', 'ADJ'), ('ol', 'VERB'), ('ol', 'VERB'), ('bil', 'VERB'), ('imkan', 'NOUN'), ('.', 'PUNCT')]\n",
            "Sentence 3: [('bakara', 'NOUN'), ('sure', 'NOUN'), ('ayet', 'NOUN'), ('açık', 'NOUN'), ('mı', 'VERB'), ('?', 'PUNCT')]\n",
            "Sentence 4: [('internet', 'NOUN'), ('araştır', 'VERB'), ('açık', 'NOUN'), ('cevap', 'NOUN'), ('bul', 'VERB'), ('.', 'PUNCT')]\n",
            "Sentence 5: [('burun', 'NOUN'), ('kemik', 'NOUN'), ('eğri', 'NOUN'), ('ol', 'VERB'), ('kemik', 'NOUN'), ('hiç', 'ADV'), ('dokun', 'VERB'), ('.', 'PUNCT')]\n"
          ]
        }
      ],
      "source": [
        "# Create the filtered dataset (limited to ADJ, ADV, NOUN)\n",
        "limited_tags = {\"ADJ\", \"ADV\", \"NOUN\", \"VERB\", \"PUNCT\"} # Define the tags to keep\n",
        "filtered_sentences = prepare_data(sentences, limited_tags)\n",
        "\n",
        "print(\"\\nFiltered Sentences (First 5, limited to ADJ, ADV, NOUN, VERB, PUNCT):\")\n",
        "for i, sent in enumerate(filtered_sentences[:5]):\n",
        "    print(f\"Sentence {i+1}: {sent}\")"
      ]
    },
    {
      "cell_type": "code",
      "execution_count": 41,
      "metadata": {
        "colab": {
          "base_uri": "https://localhost:8080/"
        },
        "id": "QYJLZyXqJama",
        "outputId": "7d901aee-d41c-458a-f5f3-114602040811"
      },
      "outputs": [
        {
          "name": "stdout",
          "output_type": "stream",
          "text": [
            "No empty sentences found.\n"
          ]
        }
      ],
      "source": [
        "# Find empty sentences in order to check whether there are any empty sentences in remaining ones\n",
        "# (i.e. for those which doesn't have any tags in filter list)\n",
        "empty_sentences = [i for i, sent in enumerate(filtered_sentences) if len(sent) == 0]\n",
        "\n",
        "# Print results\n",
        "if empty_sentences:\n",
        "    print(f\"Empty sentences found at indices: {empty_sentences}\")\n",
        "    print(f\"Total empty sentences: {len(empty_sentences)}\")\n",
        "else:\n",
        "    print(\"No empty sentences found.\")\n"
      ]
    },
    {
      "cell_type": "markdown",
      "metadata": {
        "id": "qfQqtk3IH57J"
      },
      "source": [
        "## 2. Train test split"
      ]
    },
    {
      "cell_type": "code",
      "execution_count": 42,
      "metadata": {
        "id": "UObbP2NK8T8B"
      },
      "outputs": [],
      "source": [
        "import random\n",
        "from sklearn.model_selection import train_test_split"
      ]
    },
    {
      "cell_type": "markdown",
      "metadata": {
        "id": "egywRL0pWy_R"
      },
      "source": [
        "Later, I did not use the function below, I used the ready-to-use function (train_test_split function from sklearn.model_selection library)"
      ]
    },
    {
      "cell_type": "code",
      "execution_count": 43,
      "metadata": {
        "id": "YaC_RVVMxnCz"
      },
      "outputs": [],
      "source": [
        "def train_test_splits(data, train_ratio=0.8, seed=42):\n",
        "  # Set seed for reproducibility\n",
        "  random.seed(seed)\n",
        "\n",
        "  # Calculate the split index\n",
        "  train_size = int(len(data) * train_ratio)\n",
        "\n",
        "  # Randomly select train_size samples for the training set\n",
        "  train_data = random.sample(data, train_size)\n",
        "\n",
        "  # Use set difference to get test data\n",
        "  test_data = [x for x in data if x not in train_data]\n",
        "\n",
        "  return train_data, test_data"
      ]
    },
    {
      "cell_type": "code",
      "execution_count": 44,
      "metadata": {
        "colab": {
          "base_uri": "https://localhost:8080/"
        },
        "id": "Qs6OaWtqIdNr",
        "outputId": "06617bdb-a176-45da-a092-558f3f8a06ea"
      },
      "outputs": [
        {
          "name": "stdout",
          "output_type": "stream",
          "text": [
            "Original Dataset - Train: 3880, Test: 971\n",
            "Filtered Dataset - Train: 3880, Test: 971\n"
          ]
        }
      ],
      "source": [
        "# Call for both original and filtered datasets\n",
        "train_original, test_original = train_test_split(original_sentences, test_size=0.2, random_state=42)\n",
        "train_filtered, test_filtered = train_test_split(filtered_sentences, test_size=0.2, random_state=42)\n",
        "\n",
        "# Print results\n",
        "print(f\"Original Dataset - Train: {len(train_original)}, Test: {len(test_original)}\")\n",
        "print(f\"Filtered Dataset - Train: {len(train_filtered)}, Test: {len(test_filtered)}\")"
      ]
    },
    {
      "cell_type": "markdown",
      "metadata": {
        "id": "y9rFMYN8XKbY"
      },
      "source": [
        "4 datasets obtained.\n",
        "\n",
        "- Training dataset for all tags (train_original)\n",
        "- Testing dataset for all tags (test_original)\n",
        "\n",
        "\n",
        "- Training dataset for filtered tags (train_filtered)\n",
        "- Testing dataset for filtered tags (test_filtered)"
      ]
    },
    {
      "cell_type": "markdown",
      "metadata": {
        "id": "X5B05ac6IIM4"
      },
      "source": [
        "## 3. Model Training\n",
        "\n",
        "Train your HMM here."
      ]
    },
    {
      "cell_type": "code",
      "execution_count": 45,
      "metadata": {
        "id": "RMogxHLa9mv_"
      },
      "outputs": [],
      "source": [
        "from collections import defaultdict"
      ]
    },
    {
      "cell_type": "code",
      "execution_count": 66,
      "metadata": {
        "id": "MKBmfnb46nG8"
      },
      "outputs": [],
      "source": [
        "def create_HMM(train_sentences, alpha=1.0):\n",
        "    START_TAG = \"<START>\"\n",
        "    END_TAG = \"<END>\"\n",
        "\n",
        "    # Raw counts for transitions and emissions\n",
        "    transitions_count = defaultdict(lambda: defaultdict(int))\n",
        "    emissions_count = defaultdict(lambda: defaultdict(int))\n",
        "    tag_counts = defaultdict(int)\n",
        "    vocab = set()\n",
        "    word_count = 0\n",
        "\n",
        "    # Count transitions, emissions, and tags\n",
        "    for sentence in train_sentences:\n",
        "        if not sentence:\n",
        "            continue\n",
        "\n",
        "        previous_tag = START_TAG\n",
        "        tag_counts[START_TAG] += 1  # Count <START> for every sentence\n",
        "\n",
        "        for word, tag in sentence:\n",
        "            transitions_count[previous_tag][tag] += 1\n",
        "            emissions_count[tag][word] += 1\n",
        "            tag_counts[tag] += 1\n",
        "            vocab.add(word)\n",
        "            word_count += 1\n",
        "            previous_tag = tag\n",
        "\n",
        "        # Transition to <END> after the sentence\n",
        "        transitions_count[previous_tag][END_TAG] += 1\n",
        "        tag_counts[END_TAG] += 1  # Ensure <END> is counted\n",
        "\n",
        "    # Collect all tags (including special tags)\n",
        "    all_tags = set(tag_counts.keys())\n",
        "    all_tags_with_special = all_tags.union({START_TAG, END_TAG})\n",
        "\n",
        "    # Transition probabilities with Laplace smoothing -> alpha = 1\n",
        "    transitions = defaultdict(dict)\n",
        "    for prev_tag in all_tags_with_special:\n",
        "        total_transitions = sum(transitions_count[prev_tag].values())\n",
        "        n_next_tags = len(all_tags_with_special)  # Number of possible next tags\n",
        "\n",
        "        for next_tag in all_tags_with_special:\n",
        "            numerator = transitions_count[prev_tag][next_tag] + alpha\n",
        "            denominator = total_transitions + alpha * n_next_tags\n",
        "            transitions[prev_tag][next_tag] = numerator / denominator\n",
        "\n",
        "    # Emission probabilities with Laplace smoothing\n",
        "    emissions = defaultdict(dict)\n",
        "    V = len(vocab)  # Vocabulary size\n",
        "    for tag in all_tags:\n",
        "        total_tag_count = sum(emissions_count[tag].values())\n",
        "        for word in vocab:\n",
        "            numerator = emissions_count[tag][word] + alpha\n",
        "            denominator = total_tag_count + alpha * V\n",
        "            emissions[tag][word] = numerator / denominator\n",
        "\n",
        "    # Handle unseen emissions for tags\n",
        "    for tag in all_tags:\n",
        "        emissions[tag][\"<UNK>\"] = alpha / (sum(emissions_count[tag].values()) + alpha * V)\n",
        "\n",
        "    return transitions, emissions, tag_counts, vocab, word_count"
      ]
    },
    {
      "cell_type": "markdown",
      "metadata": {
        "id": "zFX_CWewXyA0"
      },
      "source": [
        "Created HMM model above, is used to train train_original and train_filtered datasets as shown below."
      ]
    },
    {
      "cell_type": "code",
      "execution_count": 69,
      "metadata": {
        "colab": {
          "base_uri": "https://localhost:8080/"
        },
        "id": "M7ePsrrD8GOe",
        "outputId": "141ae249-6405-4830-f2f3-59dc99df5c17"
      },
      "outputs": [
        {
          "name": "stdout",
          "output_type": "stream",
          "text": [
            "Number of unique tags (all tags): 16\n",
            "Vocabulary size (all tags): 8064\n"
          ]
        }
      ],
      "source": [
        "transitions_original, emissions_original, tag_counts_original, vocab_original, word_count_original = create_HMM(train_original)\n",
        "\n",
        "print(f\"Number of unique tags (all tags): {len(tag_counts_original)}\")\n",
        "print(f\"Vocabulary size (all tags): {len(vocab_original)}\")"
      ]
    },
    {
      "cell_type": "code",
      "execution_count": 70,
      "metadata": {
        "colab": {
          "base_uri": "https://localhost:8080/"
        },
        "id": "3zSI950F8P7d",
        "outputId": "4e86cb27-dcd2-4d7b-fed6-e84d9bb66ae7"
      },
      "outputs": [
        {
          "name": "stdout",
          "output_type": "stream",
          "text": [
            "Number of unique tags (limited tags): 7\n",
            "Vocabulary size (limited tags): 7554\n"
          ]
        }
      ],
      "source": [
        "transitions_filtered, emissions_filtered, tag_counts_filtered, vocab_filtered, word_count_filtered = create_HMM(train_filtered)\n",
        "\n",
        "print(f\"Number of unique tags (limited tags): {len(tag_counts_filtered)}\")\n",
        "print(f\"Vocabulary size (limited tags): {len(vocab_filtered)}\")"
      ]
    },
    {
      "cell_type": "markdown",
      "metadata": {
        "id": "V2kvRotSY4V5"
      },
      "source": [
        "## 4. POS tag prediction for test data\n",
        "\n",
        "Write Viterbi algorithm to predict the POS tags of the test data."
      ]
    },
    {
      "cell_type": "code",
      "execution_count": 52,
      "metadata": {
        "id": "ADHBZuPtG6DM"
      },
      "outputs": [],
      "source": [
        "import numpy as np\n",
        "import math"
      ]
    },
    {
      "cell_type": "code",
      "execution_count": 61,
      "metadata": {
        "id": "xo1ORuDU7KwO"
      },
      "outputs": [],
      "source": [
        "def viterbi(test_sentence, transitions, emissions, tag_counts, word_count):\n",
        "    '''\n",
        "    type test_sentence: list of strings\n",
        "    param test_sentence: list of words in a sentence\n",
        "    type transitions: dict\n",
        "    param: the transitions count dictionary between tags\n",
        "    type emissions: dict\n",
        "    param: the emissions count dictionary for tags and words\n",
        "    type tag_counts: dict\n",
        "    param: the tag count dictionary for the POS tags\n",
        "    type word_count: int\n",
        "    param: the word count of the training corpus\n",
        "    rtype: list\n",
        "    return: the list of predicted tags for the test sentence\n",
        "    '''\n",
        "    START_TAG = \"<START>\"\n",
        "    END_TAG   = \"<END>\"\n",
        "\n",
        "    # Number of actual (non-special) tags\n",
        "    n_tags = len(tag_counts)\n",
        "    sent_len = len(test_sentence)\n",
        "\n",
        "    # Adds +3 rows for <START>, <END> and <UNK>, +3 columns for extra space\n",
        "    v_matrix = np.full((n_tags + 3, sent_len + 3), float('-inf'))\n",
        "    # Set the log-prob of <START> at column 0 to 0.0\n",
        "    v_matrix[0][0] = 0.0\n",
        "\n",
        "    # Backpointer matrix to reconstruct the best path\n",
        "    backpointer = np.full((n_tags + 3, sent_len + 3), -1, dtype=int)\n",
        "\n",
        "    # Convert tag_counts keys to a list (real tags only)\n",
        "    # Row 0 => <START>; row n_tags+1 => <END>\n",
        "    tags_list = list(tag_counts.keys())\n",
        "\n",
        "    # Helper: safe log\n",
        "    def safe_log(p):\n",
        "        return math.log(p) if p > 0 else float('-inf')\n",
        "\n",
        "    # Map row index -> which tag\n",
        "    def idx_to_tag(idx):\n",
        "        if idx == 0:\n",
        "            return START_TAG\n",
        "        elif idx == n_tags + 1:\n",
        "            return END_TAG\n",
        "        else:\n",
        "            return tags_list[idx - 1]\n",
        "\n",
        "    # Map tag -> row index\n",
        "    def tag_to_idx(tag):\n",
        "        if tag == START_TAG:\n",
        "            return 0\n",
        "        elif tag == END_TAG:\n",
        "            return n_tags + 1\n",
        "        else:\n",
        "            return tags_list.index(tag) + 1\n",
        "\n",
        "    # Step 1) Fill columns 1..sent_len for each word\n",
        "    for col in range(1, sent_len + 1):\n",
        "        current_word = test_sentence[col - 1]\n",
        "\n",
        "        # For each possible current tag (rows 1..n_tags)\n",
        "        for curr_tag_idx in range(1, n_tags + 1):\n",
        "            curr_tag = idx_to_tag(curr_tag_idx)\n",
        "\n",
        "            # Emission probability: P(word | curr_tag)\n",
        "            emis_prob = emissions[curr_tag].get(current_word, 1e-12)\n",
        "            emis_log  = safe_log(emis_prob)\n",
        "\n",
        "            # Find the best previous tag\n",
        "            best_score = float('-inf')\n",
        "            best_prev_idx = -1\n",
        "\n",
        "            # Previous tag can be row 0 (<START>) up to row n_tags (the last actual tag)\n",
        "            for prev_tag_idx in range(0, n_tags + 1):\n",
        "                prev_tag = idx_to_tag(prev_tag_idx)\n",
        "\n",
        "                # Transition probability: P(curr_tag | prev_tag)\n",
        "                trans_prob = transitions[prev_tag].get(curr_tag, 1e-12)\n",
        "                trans_log  = safe_log(trans_prob)\n",
        "\n",
        "                score = v_matrix[prev_tag_idx][col - 1] + trans_log + emis_log\n",
        "                if score > best_score:\n",
        "                    best_score = score\n",
        "                    best_prev_idx = prev_tag_idx\n",
        "\n",
        "            # Update Viterbi matrix and backpointer\n",
        "            v_matrix[curr_tag_idx][col] = best_score\n",
        "            backpointer[curr_tag_idx][col] = best_prev_idx\n",
        "\n",
        "    # Step 2) After filling all words, transition to <END> in column sent_len+1\n",
        "    end_col = sent_len + 1\n",
        "    best_final_score = float('-inf')\n",
        "    best_final_idx = -1\n",
        "\n",
        "    # We can come into <END> from any real tag (rows 1..n_tags)\n",
        "    for prev_tag_idx in range(1, n_tags + 1):\n",
        "        prev_tag = idx_to_tag(prev_tag_idx)\n",
        "        trans_prob = transitions[prev_tag].get(END_TAG, 1e-12)\n",
        "        trans_log = safe_log(trans_prob)\n",
        "\n",
        "        candidate_score = v_matrix[prev_tag_idx][sent_len] + trans_log\n",
        "        if candidate_score > best_final_score:\n",
        "            best_final_score = candidate_score\n",
        "            best_final_idx = prev_tag_idx\n",
        "\n",
        "    # Store final score and backpointer for <END>\n",
        "    v_matrix[n_tags + 1][end_col] = best_final_score\n",
        "    backpointer[n_tags + 1][end_col] = best_final_idx\n",
        "\n",
        "    # Step 3) Backtrack from <END> to reconstruct the best tag sequence\n",
        "    predicted_tags_idx = []\n",
        "    curr_row = n_tags + 1\n",
        "    curr_col = end_col\n",
        "\n",
        "    # Move leftwards until we reach column 0\n",
        "    while curr_col > 0:\n",
        "        predicted_tags_idx.append(backpointer[curr_row][curr_col])\n",
        "        curr_row = backpointer[curr_row][curr_col]\n",
        "        curr_col -= 1\n",
        "\n",
        "    predicted_tags_idx.reverse()\n",
        "\n",
        "    # This includes the predecessor of <END> plus possibly <START>.\n",
        "    # We only want the real tags for each word, i.e., indices [1..sent_len]\n",
        "    real_path_idx = predicted_tags_idx[1 : sent_len + 1]\n",
        "    predicted_tags = [idx_to_tag(idx) for idx in real_path_idx]\n",
        "\n",
        "    return predicted_tags"
      ]
    },
    {
      "cell_type": "code",
      "execution_count": 62,
      "metadata": {
        "id": "8pC8Aj2qyKor"
      },
      "outputs": [],
      "source": [
        "def predict_tags_for_sentences(test_data, transitions, emissions, tag_counts, vocab):\n",
        "  \"\"\"\n",
        "  test_data: list of sentences, each is [(word, gold_tag), ...]\n",
        "  returns: (predicted_tags, gold_tags) as flattened lists\n",
        "  \"\"\"\n",
        "  all_preds = []\n",
        "  all_golds = []\n",
        "\n",
        "  word_count = sum(tag_counts.values())\n",
        "  for sent in test_data:\n",
        "      # extract words only\n",
        "      words = [word for (word, tag) in sent]\n",
        "      gold_tags = [tag for (word, tag) in sent]\n",
        "\n",
        "      pred_tags = viterbi(words, transitions, emissions, tag_counts, word_count)\n",
        "\n",
        "      all_preds.extend(pred_tags)\n",
        "      all_golds.extend(gold_tags)\n",
        "  return all_preds, all_golds\n"
      ]
    },
    {
      "cell_type": "markdown",
      "metadata": {
        "id": "Ec0gNpt6ZKJc"
      },
      "source": [
        "## 5. Evaluate your HMM\n",
        "\n",
        "Use the test data labels and compare to your prediction. Use the accuracy and F1 score as the performance metrics. Show the confusion matrix for the prediction vs gold labels.\n"
      ]
    },
    {
      "cell_type": "code",
      "execution_count": 63,
      "metadata": {
        "id": "GfGVCsoCKrzJ"
      },
      "outputs": [],
      "source": [
        "import matplotlib.pyplot as plt\n",
        "import seaborn as sns\n",
        "from sklearn.metrics import confusion_matrix\n",
        "from sklearn.metrics import accuracy_score, f1_score, confusion_matrix, classification_report"
      ]
    },
    {
      "cell_type": "code",
      "execution_count": 64,
      "metadata": {
        "id": "1Vro6ze-KyUH"
      },
      "outputs": [],
      "source": [
        "def plot_confusion_matrix(golds, preds, labels, model_name=\"\", normalize=False, figsize=(8, 6)):\n",
        "    \"\"\"\n",
        "    Plots a confusion matrix using Seaborn's heatmap.\n",
        "\n",
        "    Args:\n",
        "        golds (list): True labels (tags).\n",
        "        preds (list): Predicted labels (tags).\n",
        "        labels (list): List of possible labels (tags) in a desired order.\n",
        "        model_name (str, optional): Name of the model to include in the title.\n",
        "        normalize (bool, optional): Whether to normalize counts by row (per-class).\n",
        "        figsize (tuple, optional): Figure size (width, height).\n",
        "\n",
        "    Returns:\n",
        "        None (shows the confusion matrix plot inline).\n",
        "    \"\"\"\n",
        "    cm = confusion_matrix(golds, preds, labels=labels)\n",
        "\n",
        "    # Optionally normalize the confusion matrix by row (true label)\n",
        "    if normalize:\n",
        "        cm = cm.astype('float') / cm.sum(axis=1, keepdims=True)\n",
        "\n",
        "    fig, ax = plt.subplots(figsize=figsize)\n",
        "    sns.heatmap(\n",
        "        cm,\n",
        "        annot=True,\n",
        "        fmt=\".2f\" if normalize else \"d\",\n",
        "        xticklabels=labels,\n",
        "        yticklabels=labels,\n",
        "        cmap='Blues',\n",
        "        cbar=True,\n",
        "        square=True,\n",
        "        ax=ax\n",
        "    )\n",
        "    title = f\"Confusion Matrix - {model_name}\" if model_name else \"Confusion Matrix\"\n",
        "    ax.set_title(title)\n",
        "    ax.set_xlabel(\"Predicted\")\n",
        "    ax.set_ylabel(\"True\")\n",
        "    plt.show()"
      ]
    },
    {
      "cell_type": "code",
      "execution_count": 65,
      "metadata": {
        "id": "NDH-EQq1tk8p"
      },
      "outputs": [],
      "source": [
        "def evaluate_model(test_data, transitions, emissions, tag_counts, vocab, model_name=\"\"):\n",
        "    \"\"\"\n",
        "    Evaluates a model by:\n",
        "        1) Predicting tags with Viterbi for each sentence in `test_data`.\n",
        "        2) Computing Accuracy, F1, Confusion Matrix, and Classification Report.\n",
        "\n",
        "    Returns:\n",
        "        (acc, f1, golds, preds) so you can plot or further analyze the results.\n",
        "    \"\"\"\n",
        "    preds, golds = predict_tags_for_sentences(test_data, transitions, emissions, tag_counts, vocab)\n",
        "\n",
        "    acc = accuracy_score(golds, preds)\n",
        "    f1 = f1_score(golds, preds, average='macro')\n",
        "    conf_mat = confusion_matrix(golds, preds, labels=list(tag_counts.keys()))\n",
        "\n",
        "    print(f\"--- Evaluation for {model_name} ---\")\n",
        "    print(\"Accuracy:\", acc)\n",
        "    print(\"F1 Score:\", f1)\n",
        "    print(\"Confusion Matrix:\")\n",
        "    print(conf_mat)\n",
        "    print(\"Classification Report:\")\n",
        "    print(classification_report(golds, preds, labels=list(tag_counts.keys())))\n",
        "    print(\"-----------------------------------\\n\")\n",
        "\n",
        "    # Return the gold/pred lists if you want to plot them separately\n",
        "    return acc, f1, golds, preds"
      ]
    },
    {
      "cell_type": "code",
      "execution_count": 71,
      "metadata": {
        "colab": {
          "base_uri": "https://localhost:8080/",
          "height": 1000
        },
        "id": "MDEwH65yK5kt",
        "outputId": "c182d03c-652e-4cf0-83be-b295e8a4c048"
      },
      "outputs": [
        {
          "name": "stdout",
          "output_type": "stream",
          "text": [
            "--- Evaluation for Original (All Tags) ---\n",
            "Accuracy: 0.8571213489912677\n",
            "F1 Score: 0.5543518178754263\n",
            "Confusion Matrix:\n",
            "[[   0    0    0    0    0    0    0    0    0    0    0    0    0    0\n",
            "     0    0]\n",
            " [   0  441    6    3    1    7    0    2    4    0    0    0    8    0\n",
            "     0    0]\n",
            " [   2   13 5159   24  102  263   33  188    3    3    0    7    5    2\n",
            "     0    1]\n",
            " [   0    1  204  305   13   15    5   16    3    1    0    0   11    0\n",
            "     0    0]\n",
            " [   0    0    0    0 1811    1    0    3    0    0    0    0    0    1\n",
            "     0    0]\n",
            " [   0    0  157    6    6 2150   14   24    3    0    4    0    5    0\n",
            "     0    0]\n",
            " [   0    2  100    2    2    8  413    3    0    0    0    0    1    0\n",
            "     0    0]\n",
            " [   0    0    0    0    0    0    0    0    0    0    0    0    0    0\n",
            "     0    0]\n",
            " [   0   55   19   12    3   17    0    4  146    1    0    0    1    0\n",
            "     0    0]\n",
            " [   0    2   12    0    1    6   11   14    1  500    8    0    2    2\n",
            "     0    0]\n",
            " [   0    0    7    0    3   62    0    8    0    3  133    0    0    0\n",
            "     0    0]\n",
            " [   0   13  111    0    8   14    0   12    0    0    0  127    1    1\n",
            "     0    0]\n",
            " [   0   13   61   18    7   15    7    6    0    4    0    0  194    0\n",
            "     0    0]\n",
            " [   0    1   26    0   10    8    1    6    0    7    3    1    1    7\n",
            "     0    0]\n",
            " [   0    0    1    0    0    0    0    0    0    0    0    0    0    0\n",
            "     0    0]\n",
            " [   0    0    0    0    0    0    0    0    0    0    0    0    0    0\n",
            "     0    0]]\n",
            "Classification Report:\n",
            "              precision    recall  f1-score   support\n",
            "\n",
            "     <START>       0.00      0.00      0.00         0\n",
            "         DET       0.82      0.93      0.87       472\n",
            "        NOUN       0.88      0.89      0.88      5805\n",
            "         ADJ       0.82      0.53      0.65       574\n",
            "       PUNCT       0.92      1.00      0.96      1816\n",
            "        VERB       0.84      0.91      0.87      2369\n",
            "         ADP       0.85      0.78      0.81       531\n",
            "       <END>       0.00      0.00      0.00         0\n",
            "        PRON       0.91      0.57      0.70       258\n",
            "        CONJ       0.96      0.89      0.93       559\n",
            "         PRT       0.90      0.62      0.73       216\n",
            "         NUM       0.94      0.44      0.60       287\n",
            "         ADV       0.85      0.60      0.70       325\n",
            "           X       0.54      0.10      0.17        71\n",
            "        ONOM       0.00      0.00      0.00         1\n",
            "       AFFIX       0.00      0.00      0.00         0\n",
            "\n",
            "    accuracy                           0.86     13284\n",
            "   macro avg       0.64      0.52      0.55     13284\n",
            "weighted avg       0.88      0.86      0.86     13284\n",
            "\n",
            "-----------------------------------\n",
            "\n"
          ]
        },
        {
          "name": "stderr",
          "output_type": "stream",
          "text": [
            "/usr/local/lib/python3.10/dist-packages/sklearn/metrics/_classification.py:1565: UndefinedMetricWarning: Precision is ill-defined and being set to 0.0 in labels with no predicted samples. Use `zero_division` parameter to control this behavior.\n",
            "  _warn_prf(average, modifier, f\"{metric.capitalize()} is\", len(result))\n",
            "/usr/local/lib/python3.10/dist-packages/sklearn/metrics/_classification.py:1565: UndefinedMetricWarning: Recall is ill-defined and being set to 0.0 in labels with no true samples. Use `zero_division` parameter to control this behavior.\n",
            "  _warn_prf(average, modifier, f\"{metric.capitalize()} is\", len(result))\n",
            "/usr/local/lib/python3.10/dist-packages/sklearn/metrics/_classification.py:1565: UndefinedMetricWarning: Precision is ill-defined and being set to 0.0 in labels with no predicted samples. Use `zero_division` parameter to control this behavior.\n",
            "  _warn_prf(average, modifier, f\"{metric.capitalize()} is\", len(result))\n",
            "/usr/local/lib/python3.10/dist-packages/sklearn/metrics/_classification.py:1565: UndefinedMetricWarning: Recall is ill-defined and being set to 0.0 in labels with no true samples. Use `zero_division` parameter to control this behavior.\n",
            "  _warn_prf(average, modifier, f\"{metric.capitalize()} is\", len(result))\n",
            "/usr/local/lib/python3.10/dist-packages/sklearn/metrics/_classification.py:1565: UndefinedMetricWarning: Precision is ill-defined and being set to 0.0 in labels with no predicted samples. Use `zero_division` parameter to control this behavior.\n",
            "  _warn_prf(average, modifier, f\"{metric.capitalize()} is\", len(result))\n",
            "/usr/local/lib/python3.10/dist-packages/sklearn/metrics/_classification.py:1565: UndefinedMetricWarning: Recall is ill-defined and being set to 0.0 in labels with no true samples. Use `zero_division` parameter to control this behavior.\n",
            "  _warn_prf(average, modifier, f\"{metric.capitalize()} is\", len(result))\n"
          ]
        },
        {
          "data": {
            "image/png": "[encoded data removed]",
            "text/plain": [
              "<Figure size 800x600 with 2 Axes>"
            ]
          },
          "metadata": {},
          "output_type": "display_data"
        }
      ],
      "source": [
        "# 1) Train HMM on original data (all tags) - already done above\n",
        "#transitions_orig, emissions_orig, tag_counts_orig, vocab_orig, word_orig = create_HMM(train_original, alpha=1.0)\n",
        "\n",
        "# 2) Evaluate (all tags)\n",
        "acc_orig, f1_orig, golds_orig, preds_orig = evaluate_model(\n",
        "    test_original,\n",
        "    transitions_original,\n",
        "    emissions_original,\n",
        "    tag_counts_original,\n",
        "    vocab_original,\n",
        "    model_name=\"Original (All Tags)\"\n",
        ")\n",
        "\n",
        "# 3) Plot confusion matrix (all tags)\n",
        "plot_confusion_matrix(\n",
        "    golds_orig,\n",
        "    preds_orig,\n",
        "    labels=list(tag_counts_original.keys()),\n",
        "    model_name=\"Original (All Tags)\",\n",
        "    normalize=False,  # or True if you want per-class percentages\n",
        "    figsize=(8, 6)\n",
        ")"
      ]
    },
    {
      "cell_type": "code",
      "execution_count": 72,
      "metadata": {
        "colab": {
          "base_uri": "https://localhost:8080/",
          "height": 1000
        },
        "id": "8sbnY82lLV1r",
        "outputId": "9eabd8b8-1367-464b-d646-00649d758e7a"
      },
      "outputs": [
        {
          "name": "stdout",
          "output_type": "stream",
          "text": [
            "--- Evaluation for Filtered (ADJ, ADV, NOUN, VERB, PUNC) ---\n",
            "Accuracy: 0.8976030856827991\n",
            "F1 Score: 0.5963524269283642\n",
            "Confusion Matrix:\n",
            "[[   0    0    0    0    0    0    0]\n",
            " [  16 5302   20   45  239  171   12]\n",
            " [   2  207  314    9   14   13   15]\n",
            " [   0    0    0 1814    1    1    0]\n",
            " [   2  172    8    6 2148   28    5]\n",
            " [   0    0    0    0    0    0    0]\n",
            " [   0   76   22    7   15    9  196]]\n",
            "Classification Report:\n",
            "              precision    recall  f1-score   support\n",
            "\n",
            "     <START>       0.00      0.00      0.00         0\n",
            "        NOUN       0.92      0.91      0.92      5805\n",
            "         ADJ       0.86      0.55      0.67       574\n",
            "       PUNCT       0.96      1.00      0.98      1816\n",
            "        VERB       0.89      0.91      0.90      2369\n",
            "       <END>       0.00      0.00      0.00         0\n",
            "         ADV       0.86      0.60      0.71       325\n",
            "\n",
            "    accuracy                           0.90     10889\n",
            "   macro avg       0.64      0.57      0.60     10889\n",
            "weighted avg       0.92      0.90      0.90     10889\n",
            "\n",
            "-----------------------------------\n",
            "\n"
          ]
        },
        {
          "name": "stderr",
          "output_type": "stream",
          "text": [
            "/usr/local/lib/python3.10/dist-packages/sklearn/metrics/_classification.py:1565: UndefinedMetricWarning: Recall is ill-defined and being set to 0.0 in labels with no true samples. Use `zero_division` parameter to control this behavior.\n",
            "  _warn_prf(average, modifier, f\"{metric.capitalize()} is\", len(result))\n",
            "/usr/local/lib/python3.10/dist-packages/sklearn/metrics/_classification.py:1565: UndefinedMetricWarning: Recall is ill-defined and being set to 0.0 in labels with no true samples. Use `zero_division` parameter to control this behavior.\n",
            "  _warn_prf(average, modifier, f\"{metric.capitalize()} is\", len(result))\n",
            "/usr/local/lib/python3.10/dist-packages/sklearn/metrics/_classification.py:1565: UndefinedMetricWarning: Recall is ill-defined and being set to 0.0 in labels with no true samples. Use `zero_division` parameter to control this behavior.\n",
            "  _warn_prf(average, modifier, f\"{metric.capitalize()} is\", len(result))\n"
          ]
        },
        {
          "data": {
            "image/png": "[encoded data removed]",
            "text/plain": [
              "<Figure size 800x600 with 2 Axes>"
            ]
          },
          "metadata": {},
          "output_type": "display_data"
        }
      ],
      "source": [
        "# 1) Train HMM on filtered data (only ADJ, ADV, NOUN, VERB, PUNC) - already done above\n",
        "# transitions_filt, emissions_filt, tag_counts_filt, vocab_filt, word_filt = create_HMM(train_filtered, alpha=1.0)\n",
        "\n",
        "# 2) Evaluate (filtered tags)\n",
        "acc_filt, f1_filt, golds_filt, preds_filt = evaluate_model(\n",
        "    test_filtered,\n",
        "    transitions_filtered,\n",
        "    emissions_filtered,\n",
        "    tag_counts_filtered,\n",
        "    vocab_filtered,\n",
        "    model_name=\"Filtered (ADJ, ADV, NOUN, VERB, PUNC)\"\n",
        ")\n",
        "\n",
        "# 3) Plot confusion matrix (filtered tags)\n",
        "plot_confusion_matrix(\n",
        "    golds_filt,\n",
        "    preds_filt,\n",
        "    labels=list(tag_counts_filtered.keys()),\n",
        "    model_name=\"Filtered (ADJ, ADV, NOUN, VERB, PUNC)\",\n",
        "    normalize=False,\n",
        "    figsize=(8, 6)\n",
        ")"
      ]
    },
    {
      "cell_type": "markdown",
      "metadata": {
        "id": "oyE5pu75IOu8"
      },
      "source": [
        "## 6. Explanation\n",
        "\n"
      ]
    },
    {
      "cell_type": "markdown",
      "metadata": {
        "id": "TtWLqH4Iekb7"
      },
      "source": [
        "For preparing data, web and wiki sentences are combined and get a new dataset totaling 4851 sentences. 14 unique POS tags were identified, and confirmed that there is no word with missing tags. Then, the prepare_data function implemented to filter sentences based on a given tag list. This function is used to get two different dataset (original and filtered), one with all 14 tags and other one filters for only 5 interested tags (ADJ, ADV, NOUN, VERB, PUNCT) by removing the rest. This resulted in shorter sentences containing only the specified tags. Importantly, the filtering process did not create any empty sentences. This preprocessing step allows focusing on specific POS tags for the HMM. Both the original (all 14 tags) and filtered (5 tags) datasets were split into training and testing sets using an 80/20 split ratio with a fixed random state (42) for reproducibility. This resulted in 3880 training sentences and 971 testing sentences for both datasets.\n",
        "\n",
        "\n",
        "Then, create_HMM function calculates MLE for tansition and emission probabilities with Laplace smoothing (alpha = 1.0). It iterates through training sentences, counting transitions between tags and emissions (word occurrences) for each tag. These counts are then normalized by smoothing to handle unseen transitions or words during prediction by preventing zero probabilities and improving model robustness. Special tags <START> and <END> are used to mark sentence boundaries and ensure proper transition modeling. An unseen word is assigned a probability of \"alpha / total tag emissions + alpha * vocabulary size\" during prediction in order to balance unseen words with seen ones within a tag. Data size and rare tags positioned as room for improvement, meaning that larger training dataset could improve modelgeneralizability and reduce overfitting and tags with limited occurrences might have less accuract probabilities, may impact performance.\n",
        "\n",
        "Overall, the performance for implemented program was good. This HMM tagger achieved an accuracy of 85.7% for all tags and 89.8% for the filtered set (ADJ, ADV, NOUN, VERB, PUNCT). The model encountered issues like data imbalance, where the dataset was dominated by common tags like NOUN and VERB, and frequent misclassification of tags like ADJ and ADV, which was probably caused by the lack of training samples for these categories. The filtered version of dataset performed better as it removes most of unfrequent tags. Even in the filtered version, F1 score is 0.59, and the HMM's overall accuracy is 89%. Classification report also agrees that minority tags underperformed while frequent tags did well. These differences were further emphasized by the confusion matrix, which revealed substantial overlap among other tags but great precision for NOUN and VERB.\n",
        "\n",
        "The model performance is overall effective, but mistakes in earlier tag predictions may cascaded through the sentence and affects subsequent tags. Also, the model relies only on tag transition probabilities without considering the broader sentence context. Also, several data imbalance techniques may be used such as including more of the less frequent tags to balance dominant classes. These should be considered for further enhancements.\n",
        "\n",
        "\n"
      ]
    }
  ],
  "metadata": {
    "accelerator": "GPU",
    "colab": {
      "gpuType": "T4",
      "provenance": []
    },
    "kernelspec": {
      "display_name": "Python 3",
      "name": "python3"
    },
    "language_info": {
      "name": "python"
    }
  },
  "nbformat": 4,
  "nbformat_minor": 0
}
